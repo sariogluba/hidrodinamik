{
 "cells": [
  {
   "cell_type": "markdown",
   "metadata": {},
   "source": [
    "# Konu Başlıkları\n",
    "\n",
    "1. [Çevresel koşulların tasarıma etkisi](CevreselKosullar.ipynb)\n",
    "    1. Rüzgar\n",
    "    2. Akıntı ve gelgit\n",
    "    3. [Dalga](dalga.ipynb)\n",
    "        1. Dalga kuramları\n",
    "        2. Basit dalgalar ve karışık deniz modeli\n",
    "        3. Belirli bir konum için dalga paremetrelerinin hesabı\n",
    "    4. Kar ve buz\n",
    "    5. Yer titreşimleri\n",
    "    6. Hava ve su sıcaklığı\n",
    "    7. Deniz suyu koşulları\n",
    "2. Gemilerin Hidrodinamiği\n",
    "    1. Teoriler\n",
    "    2. 6 SD gemi hareketleri\n",
    "    3. Ek-kütle ve sönüm hesabı\n",
    "    4. Düzgün ve karışık dalgalarda gemi hareketleri\n",
    "    5. Gemi hareketlerinden dolayı oluşan ivme ve kuvvetler\n",
    "    6. Yalpa hareketi ve dinamik stabilite\n",
    "    7. Denizcilik performansının tanımı\n",
    "    8. Geminin denizcilik performansını arttıracak yöntemler\n",
    "    9. Gemi manevrası\n",
    "    10. Gemi-dümen etkileşimi ve dümen dizaynı\n",
    "    11. Gemi model deneyleri\n",
    "3. Deniz yapılarının hidrodinamiği\n",
    "    1. Teoriler\n",
    "    2. Küçük ve büyük cisimlere gelen dalga kuvvetlerinin hesaplanması\n",
    "    3. Sabit ve hareketli deniz yapılarının dinamik analizi\n",
    "    4. Ek-kütle ve sönüm hesabı\n",
    "    5. Düzgün ve karışık dalgaların etkisinin incelenmesi\n",
    "    6. Deniz yapısının ivmeleri ve karşılaşılan kuvvetler\n",
    "    7. Tek ve çok noktalı bağlama sistemleri\n",
    "    8. Deniz yapısı model deneyleri"
   ]
  },
  {
   "cell_type": "markdown",
   "metadata": {},
   "source": [
    "# Bize hız kazandıracak basit araçlarımız\n",
    "\n",
    "<div style=\"text-align: justify\">Karşılaştığımız mühendislik problemlerini analitik olarak çözemediğimizde kullanacağımız sayısal yöntemleri uygularken ve bu yöntemleri öğrenirken bize hız kazandırabilecek ve işlerimizi kolaylaştırabilecek çeşitli araçlar mevcut. Bu araçlarla ilgili kısa bilgileri burada paylaştım.</div>\n",
    "\n",
    "\n",
    "- Python 3, mühendislik problemlerini çözerken kullanabileceğimiz öğrenmesi çok kolay ve güçlü bir programlama dilidir. Python ücretsiz bir çok araca sahip ve Scipy, Numpy, Matplotlib vb. kuvvetli kütüphaneleri ile birçok problemi hızlı şekilde çözmeye imkan tanımaktadır.\n",
    "\n",
    "\n",
    "- OpenFOAM, C++ temelli açık kaynak hesaplamalı akışkanlar dinamiği kodudur.\n",
    "\n",
    "\n",
    "- Ansys AQWA, gemi ve deniz yapılarında; dalga, rüzgâr ve akıntının yapıya olan hidrodinamik etkileri ve bu etkilerden dolayı yapının vereceği tepkileri (hareketleri) hesaplama kabiliyeti olan 3 boyutlu panel metod ve potansiyel teoriyi kullanan bir mühendislik yazılımıdır.\n",
    "\n",
    "- Maxsurf Seakeeper, narin deniz araçlarının denizcilik hesapları için dilim teorisini kullanan bir mühendislik yazılımıdır.\n",
    "\n"
   ]
  },
  {
   "cell_type": "markdown",
   "metadata": {},
   "source": [
    "# Referans Kaynaklar\n",
    "\n",
    "- Sükan, L. M., Açık Deniz Yapılarının Hidrodinamiği, İTÜ Gemi İnşaatı ve Deniz Bilimleri Fakültesi yayını, No.5, 1985.\n",
    "- Newman, J.N., Marine Hydrodynamics. Cambridge, MA: MIT Press, 2018.\n",
    "- Goda, Y., 2010. Random seas and design of maritime structures. 3rd edition.World Scientific, Singapore. \n",
    "- Kim, C. H., 2008. Non-linear waves and offshore structures. World Scientific, Singapore. \n",
    "- Kim, Y. C., 2011. Coastal and ocean engineering practice. World Scientific, Singapore.\n",
    "- Clauss, G., Lehmann, F., ve Östergaard, C. : Offshore Structures, Volume I, Springer Verlag, Berlin, Heidelberg, 1992.\n",
    "- Chakrabarti, S. K., Hydrodynamics of Offshore Structures, Springer-Verlag, Berlin, Heidelberg, 1987.\n",
    "- Faltinsen, O. M., Sea Loads on Ships and Offshore Structures, Cambridge University Press, 1993. \n",
    "- Dean, R. G. ve Dalrymple, R. A., Water Wave Mechanics for Engineers and Scientists, World Scientific Publishing Co. Pte. Ltd., Singapore, 1998. \n",
    "- Bertram, V., Practical Ship Hydrodynamics, Butterworth-Heinemann, Oxford, 2000. \n",
    "- Robert, E. R., Elements of Ocean Engineering, SNAME Publ., 1997. \n",
    "- Chakrabarti, S. K. (Editör), Handbook of Offshore Engineering Vol I ve II, Elsevier Ltd. Publ., 2005.\n",
    "- Bhattacharyya, Rameswar (1978) \"Dynamics of Marine Vehicles\", John Wiley & Sons.  \n",
    "\n",
    "- Lewis, E. V. (Editör), Principles of Naval Architecture Vol III - Motions in Wavesand Controllability, SNAME, 1989.\n",
    "- Journée, J.M.J.(2001) Theoretical Manual of SEAWAY Release 4.19, http://www.ocp.tudelft.nl/mt/journee.\n",
    "- Sabersky, Rolf H., et al. Fluid Flow. 4th ed. Upper Saddle River, NJ: Prentice Hall, 1999."
   ]
  }
 ],
 "metadata": {
  "kernelspec": {
   "display_name": "Python 3",
   "language": "python",
   "name": "python3"
  },
  "language_info": {
   "codemirror_mode": {
    "name": "ipython",
    "version": 3
   },
   "file_extension": ".py",
   "mimetype": "text/x-python",
   "name": "python",
   "nbconvert_exporter": "python",
   "pygments_lexer": "ipython3",
   "version": "3.8.0"
  }
 },
 "nbformat": 4,
 "nbformat_minor": 4
}
