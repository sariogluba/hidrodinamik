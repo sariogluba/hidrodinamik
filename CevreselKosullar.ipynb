{
 "cells": [
  {
   "cell_type": "markdown",
   "metadata": {},
   "source": [
    "\n",
    "# Çevresel koşulların tasarıma etkisi\n",
    "\n",
    "### Tekrarlanma periyodu konsepti ( The concept of return period)\n",
    "\n",
    "Gemilerin ve deniz yapılarının minimum kullanım ömürleri 30 yıldır. Doğru tasarlanmış projelerde bu süre uzayabilir, kötü projelerde kısalabilir.\n",
    "\n",
    "Gemiler ve deniz yapıları 30 yıllık ömürleri boyunca rüzgar, dalga, akıntı vb. çeşitli çevre koşullarına mağruz kalırlar. Bu çevre koşullarını kendi içerisinde düşündüğünüzde 50 yılda birkez, 100 yılda, 200 yılda veya daha uzun sürede bir kez yüksek olasılıkla gerçekleşecek ekstrem durumları vardır. Bu ekstrem durumların olabileceğini biz çok uzun süreli gözlemler ve fiziksel modelleri birlikte kullanarak tahmin ediyoruz. Bunların hepsi sadece belirli bir olasılık. 50 yıl içerisinde 2 ekstrem durumla kaşılaşmanız düşük olasılıklıdır, 3 kez karşılaşmanız ise çok daha düşük olasılıklıdır.\n",
    "\n",
    "Düşük olasılıklı olması demek ekstrem durumlar ile karşılaşmayacağınız anlamına gelmez, gemi ve deniz yapıları tasarlanırken olasılıklar hesaplanarak en baştan risk toleransları kabul edilmelidir. Bu durum tam bir dengeleme (trade-ff) problemidir. Eğer projenizi 100 yıl içerisinde karşılaşma olasılığı en düşük olan ekstrem durumlara bile dayanacak şekilde tasarlarsanız maliyetleriniz oldukça yükselir ama güvendesinizdir. Eğer ekstrem durumlar ile karşılaşabileceğiniz gerçeğini göz ardı ederseniz ise proje maliyetleriniz oldukça düşer ama bahsedilen ekstrem durumlarda bir felaket ile karşılaşırsınız.\n",
    "\n",
    "Tekrarlanma periyodu konsepti deniz yapılarında daha yaygın olarak kullanılır. Bunun sebebi deniz yapılarının hareket kabiliyetleri gemilerin tersine  oldukça kısıtlıdır. Hava durumunun kötü olacağını ön görüyorsanız gemiyi seyire çıkartmayabilirsiniz veya rota değiştirebilirsiniz. Fakat hava durumunun çok kötü olacağını bilseniz bile bir platformu kötü havanın size ulaşacağı süreden daha kısa bir zamanda söküp yer değiştiremezsiniz. Gözünüzde canlanması açısından aşağıda bir platformun maruz kaldığı kötü hava durumu ile ilgili bir video paylaşıyorum.\n",
    "\n"
   ]
  },
  {
   "cell_type": "code",
   "execution_count": 5,
   "metadata": {},
   "outputs": [
    {
     "data": {
      "text/html": [
       "<iframe width=\"560\" height=\"315\" src=\"https://www.youtube.com/embed/D2dv57CpT-s\" frameborder=\"0\" allow=\"accelerometer; autoplay; clipboard-write; encrypted-media; gyroscope; picture-in-picture\" allowfullscreen></iframe>"
      ],
      "text/plain": [
       "<IPython.core.display.HTML object>"
      ]
     },
     "execution_count": 5,
     "metadata": {},
     "output_type": "execute_result"
    }
   ],
   "source": [
    "from IPython.display import YouTubeVideo\n",
    "\n",
    "def display_yotube_video(url, **kwargs):\n",
    "    \"\"\"\n",
    "    Displays a Youtube video in a Jupyter notebook.\n",
    "    \n",
    "    Args:\n",
    "        url (string): a link to a Youtube video.\n",
    "        **kwargs: further arguments for IPython.display.YouTubeVideo\n",
    "    \n",
    "    Returns:\n",
    "        YouTubeVideo: a video that is displayed in your notebook.\n",
    "    \"\"\"\n",
    "    id_ = url.split(\"=\")[-1]\n",
    "    return YouTubeVideo(id_, **kwargs)\n",
    "\n",
    "display_yotube_video(\"https://youtu.be/D2dv57CpT-s\", width=800, height=600)"
   ]
  },
  {
   "cell_type": "markdown",
   "metadata": {},
   "source": [
    "$P = 1 - p^{n}$\n",
    "\n",
    "P = Aşılma olasılığı\n",
    "\n",
    "p = Olayın yıllık gerçekleşmeme olasılığı\n",
    "\n",
    "n = Kullanım ömrü\n",
    "\n",
    "30 yıl kullanım ömrü olan bir yapıyı tekrarlanma periyodu 50 yılda bir kez olan bir olay ile karşılaşma olasılığı 0.45 yani %45'tir. Karşılaşma olasılığını tasarım kriteri olarak %1'in altına düşürmek için 3000 yıllık bir periyodu göz önünde bulundurmak gerekli."
   ]
  },
  {
   "cell_type": "code",
   "execution_count": 22,
   "metadata": {},
   "outputs": [
    {
     "name": "stdout",
     "output_type": "stream",
     "text": [
      "0.4545156806175631\n",
      "0.2602996266117198\n",
      "0.13961580808530394\n",
      "0.05829204604244953\n",
      "0.029569032736914247\n",
      "0.014891755791629935\n",
      "0.019807864235011574\n"
     ]
    }
   ],
   "source": [
    "def asilmaOlasiligi(p,n):\n",
    "    P = 1-p**n\n",
    "    return(P)\n",
    "\n",
    "# 50 yılda 1 aşılma olasılığı\n",
    "p50 = 1-1/50\n",
    "print(asilmaOlasiligi(p50,30))\n",
    "# 100 yılda 1 aşılma olasılığı\n",
    "p100 = 1-1/100\n",
    "print(asilmaOlasiligi(p100,30))\n",
    "# 200 yılda 1 aşılma olasılığı\n",
    "p200 = 1-1/200\n",
    "print(asilmaOlasiligi(p200,30))\n",
    "# 500 yılda 1 aşılma olasılığı\n",
    "p500 = 1-1/500\n",
    "print(asilmaOlasiligi(p500,30))\n",
    "# 1000 yılda 1 aşılma olasılığı\n",
    "p1000 = 1-1/1000\n",
    "print(asilmaOlasiligi(p1000,30))\n",
    "# 2000 yılda 1 aşılma olasılığı\n",
    "p2000 = 1-1/2000\n",
    "print(asilmaOlasiligi(p2000,30))\n",
    "# 3000 yılda 1 aşılma olasılığı\n",
    "p3000 = 1-1/3000\n",
    "print(asilmaOlasiligi(p3000,30))"
   ]
  },
  {
   "cell_type": "markdown",
   "metadata": {},
   "source": [
    "Amerikan Petrol Enstitüsü (American Petroleum Institue-API)'nün yayınladığı [tavsiye yönergede](https://www.api.org/~/media/files/publications/whats%20new/2a-wsd_e22%20pa.pdf) çevresel koşulların istatistiksel değerlendirmesi ile ilgili bir yaklaşım mevcuttur."
   ]
  },
  {
   "cell_type": "markdown",
   "metadata": {},
   "source": [
    "### Tasarımın başlangıç noktası\n",
    "\n",
    "Her tasarım projesinin başlangıç notkası çevresel koşulların ve aşılma olasılıklarının belirlenmesidir. Bu çevresel koşullar neler olabilir ?\n",
    "- Belirli bir süre boyunca esen rüzgarın ortalama hızı\n",
    "- En yüksek akıntı hızı\n",
    "- En büyük gelgit yüksekliği\n",
    "- En yüksek sağanak yağmur hızı\n",
    "- En büyük dalga yüksekliği\n",
    "- Rüzgarın sebep olduğu seviye yükselmesi\n",
    "- Belirli bir süre boyunca yağan kar miktarı\n",
    "- Buzlanma miktarı\n",
    "- Beklenen en yüksek yer titreşimi büyüklüğü\n",
    "- Hava ve su sıcaklığının en yüksek değerleri\n",
    "- Deniz suyunun en yüksek pH ve tuzluluk oranları vb.\n",
    "\n",
    "Bu şekilde olabilecek tüm çevresel koşullar değerlendirilerek ilgili tüm veriler toplanır. Bu koşullardan kabul edilen olasılık sınırları içerisinde yapının kullanım ömründe ortalama olarak en az bir defa meydana gelecek olanlar belirlenir. Belirlenen bu büyüklüklere tasarım rüzgar hızı (design wind velocity), tasarım dalga yüksekliği (design wave) gibi adlar verilir.\n",
    "\n",
    "Yukarıda bahsedilen çevresel koşulların sıklıkla kullanılan bazı parametreleri vardır.\n",
    "\n",
    "- Rüzgar\n",
    "    - Ortalama rüzgar hızı\n",
    "    - Ortalama rüzgarın yönü\n",
    "    - Rüzgar spekturumu(Rüzgar spektral yoğunluk fonksiyonu)\n",
    "- Dalga\n",
    "    - Anlamlı dalga yüksekliği\n",
    "    - Ortalama dalga periyodu\n",
    "    - Dalga genliği spektral yoğunluk fonksiyonu\n",
    "    - Ortalama dalga yönü\n",
    "    - Dalga doğrultusal yayılma fonksiyonu\n",
    "    - Akıntı ve deniz dibi topoğrafyasının etkisi ve yukarıdaki parametreleri etkileyen diğer faktörler\n",
    "- Akıntı\n",
    "    - Yüzey akıntı hızı\n",
    "    - Yüzey akıntı yönü\n",
    "    - Akıntı profili(Hız ve yön)\n",
    "    - Gelgit akıntı hızı ve yönü\n",
    "    - Akıntı hızındaki düşük frekanslı bileşenler\n",
    "- Gelgit\n",
    "    - Astronomik gelgit\n",
    "    - Fırtına ve gelgit kabarması\n",
    "- Buz\n",
    "    - Buz ve kar yayılımı\n",
    "- Deniz canlıları\n",
    "    - Deniz yapısının ıslak alanında deniz canlılarının yayılması"
   ]
  },
  {
   "cell_type": "markdown",
   "metadata": {},
   "source": [
    "### Olasılıksal Yaklaşım - Deterministik yaklaşım\n",
    "\n",
    "Mühendislik hesaplarımızda iki temel yaklaşım kullanırız. Bunlar olasılığa dayalı(Stokastik) ve belirleyici (Deterministik) yaklaşımlardır. Günümüzde mühendislik problemlerine yaklaşımımız deterministik çözüm yöntemlerinden stokastik çözüm yöntemlerine doğru kaymaktadır. Deterministik kavramıyla tam olarak belirlilik kastedilir ve modelin girdi verilerinin kesin ve tam olarak bilindiği kabul edilir. Stokastik modelde ise girdi verileri tam olarak bilinemez ama girdi verilerinin olasılıkları kullanılarak belirsizlik modele katılır. Gemi ve deniz yapıları hidrodinamiğinde bu iki yaklaşımın bizi ilgilendiren tarafı, bazı çevresel koşulları şu an için ancak olasılıksal yaklaşım ile modelleyebiliyoruz, bazı çevresel koşulları ise deterministik yaklaşım modelleyebiliyoruz. Her iki yaklaşımla da modelleyemediğimiz durumlarda mevcut. Örneğin deniz suyu ortamının çelik yapıya korozyon etkisini modellemek oldukça uğraştırıcı bir problem, bu problemi çözmek ile uğraşmak yerine dalga, rüzgar, akıntı vb. diğer yükler altında yapının davranışını modelleyip yeterli mukavemette yapı tasarlıyoruz. Son olarak belirli parametrelere bağlı kalınlık arttırımı yaparak korozyon payını belirliyoruz. (Not: Korozyon modellemesi için çeşitli olasılıksal modeller mevcut fakat uğraştırıcı olduğu için kullanımı yaygın değil.)\n",
    "\n",
    "Mühendislik problemlerini çözme kabiliyetimiz arttıkça yeni ve daha kuvvetli olasılıksal modeller oluşturuyoruz.\n",
    "\n",
    "<img src=\"img/Deterministic-approach-vs-probabilistic-approach-in-the-design-decision-making-comparing.jpg\">\n"
   ]
  }
 ],
 "metadata": {
  "kernelspec": {
   "display_name": "Python 3",
   "language": "python",
   "name": "python3"
  },
  "language_info": {
   "codemirror_mode": {
    "name": "ipython",
    "version": 3
   },
   "file_extension": ".py",
   "mimetype": "text/x-python",
   "name": "python",
   "nbconvert_exporter": "python",
   "pygments_lexer": "ipython3",
   "version": "3.8.0"
  }
 },
 "nbformat": 4,
 "nbformat_minor": 4
}
